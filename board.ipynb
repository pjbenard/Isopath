{
 "cells": [
  {
   "cell_type": "code",
   "execution_count": 1,
   "metadata": {},
   "outputs": [],
   "source": [
    "import numpy as np\n",
    "from itertools import chain"
   ]
  },
  {
   "cell_type": "code",
   "execution_count": 11,
   "metadata": {},
   "outputs": [],
   "source": [
    "class Board():\n",
    "    def __init__(self, size_board=4):\n",
    "        self.size_board = size_board\n",
    "        self.nb_tiles = 1 + 3 * (self.size_board * (self.size_board - 1))\n",
    "        \n",
    "        V, E = self.__make_graph__()\n",
    "        self.graph = {'V': V, 'E': E}\n",
    "        self.neighbours = self.__make_neighbours_dict__()\n",
    "        \n",
    "        self.values = self.__make_values__()\n",
    "        \n",
    "    \n",
    "    def __make_graph__(self):\n",
    "        def create_link(e1, e2):\n",
    "            E[e1, e2], E[e2, e1] = 1, 1\n",
    "\n",
    "        # Init\n",
    "        n = self.size_board\n",
    "        nb_tiles = self.nb_tiles\n",
    "        nb_layers = 2 * n - 1\n",
    "        V = np.arange(0, nb_tiles, dtype=int)\n",
    "        E = np.zeros((nb_tiles, nb_tiles), dtype=int)\n",
    "\n",
    "        # Creation of a matrix of placements\n",
    "        matrix = []\n",
    "        first_element = 0\n",
    "        for layer_size in chain(range(n, nb_layers + 1), \n",
    "                                range(nb_layers - 1, n - 1, -1)):\n",
    "            matrix.append([first_element + i for i in range(0, layer_size)])\n",
    "            first_element += layer_size\n",
    "\n",
    "        # Horizontal connections \n",
    "        for layer in range(0, nb_layers):\n",
    "            for tile1, tile2 in zip(matrix[layer][:-1], matrix[layer][1:]):\n",
    "                create_link(tile1, tile2)\n",
    "\n",
    "        # Vertical connections\n",
    "        for diff_layers, RANGE in zip((1, -1), \n",
    "                                      (range(0, nb_layers // 2), \n",
    "                                       range(nb_layers - 1, nb_layers // 2, -1))):\n",
    "            for layer in RANGE:\n",
    "                for tile_idx, tile in enumerate(matrix[layer]):\n",
    "                    create_link(tile, matrix[layer + diff_layers][tile_idx])\n",
    "                    create_link(tile, matrix[layer + diff_layers][tile_idx + 1])\n",
    "\n",
    "        # Teleport connections\n",
    "        first_tile_mid_layer = ((n - 1) * (3 * n - 2)) // 2\n",
    "        pairs = ((0, n - 1), \n",
    "                 (first_tile_mid_layer, first_tile_mid_layer + nb_layers - 1), \n",
    "                 (nb_tiles - n, nb_tiles - 1))\n",
    "\n",
    "        for tile1, tile2 in pairs:\n",
    "            create_link(tile1, tile2)\n",
    "        \n",
    "        return V, E\n",
    "    \n",
    "    def __make_neighbours_dict__(self):\n",
    "        neighbours = {tile: np.nonzero(self.graph['E'][tile]) for tile in self.graph['V']}\n",
    "        return neighbours\n",
    "\n",
    "    def __make_values__(self):\n",
    "        values = np.zeros(self.nb_tiles, dtype=int)\n",
    "        values[:self.size_board] = 1\n",
    "        values[-self.size_board:] = -1\n",
    "        return values"
   ]
  },
  {
   "cell_type": "code",
   "execution_count": 12,
   "metadata": {},
   "outputs": [],
   "source": [
    "board = Board(4)"
   ]
  },
  {
   "cell_type": "code",
   "execution_count": 13,
   "metadata": {},
   "outputs": [
    {
     "data": {
      "text/plain": [
       "(array([ 1,  1,  1,  1,  0,  0,  0,  0,  0,  0,  0,  0,  0,  0,  0,  0,  0,\n",
       "         0,  0,  0,  0,  0,  0,  0,  0,  0,  0,  0,  0,  0,  0,  0,  0, -1,\n",
       "        -1, -1, -1]),\n",
       " 37)"
      ]
     },
     "execution_count": 13,
     "metadata": {},
     "output_type": "execute_result"
    }
   ],
   "source": [
    "board.values, board.values.size"
   ]
  },
  {
   "cell_type": "code",
   "execution_count": 15,
   "metadata": {},
   "outputs": [
    {
     "data": {
      "text/plain": [
       "{0: (array([1, 3, 4, 5]),),\n",
       " 1: (array([0, 2, 5, 6]),),\n",
       " 2: (array([1, 3, 6, 7]),),\n",
       " 3: (array([0, 2, 7, 8]),),\n",
       " 4: (array([ 0,  5,  9, 10]),),\n",
       " 5: (array([ 0,  1,  4,  6, 10, 11]),),\n",
       " 6: (array([ 1,  2,  5,  7, 11, 12]),),\n",
       " 7: (array([ 2,  3,  6,  8, 12, 13]),),\n",
       " 8: (array([ 3,  7, 13, 14]),),\n",
       " 9: (array([ 4, 10, 15, 16]),),\n",
       " 10: (array([ 4,  5,  9, 11, 16, 17]),),\n",
       " 11: (array([ 5,  6, 10, 12, 17, 18]),),\n",
       " 12: (array([ 6,  7, 11, 13, 18, 19]),),\n",
       " 13: (array([ 7,  8, 12, 14, 19, 20]),),\n",
       " 14: (array([ 8, 13, 20, 21]),),\n",
       " 15: (array([ 9, 16, 21, 22]),),\n",
       " 16: (array([ 9, 10, 15, 17, 22, 23]),),\n",
       " 17: (array([10, 11, 16, 18, 23, 24]),),\n",
       " 18: (array([11, 12, 17, 19, 24, 25]),),\n",
       " 19: (array([12, 13, 18, 20, 25, 26]),),\n",
       " 20: (array([13, 14, 19, 21, 26, 27]),),\n",
       " 21: (array([14, 15, 20, 27]),),\n",
       " 22: (array([15, 16, 23, 28]),),\n",
       " 23: (array([16, 17, 22, 24, 28, 29]),),\n",
       " 24: (array([17, 18, 23, 25, 29, 30]),),\n",
       " 25: (array([18, 19, 24, 26, 30, 31]),),\n",
       " 26: (array([19, 20, 25, 27, 31, 32]),),\n",
       " 27: (array([20, 21, 26, 32]),),\n",
       " 28: (array([22, 23, 29, 33]),),\n",
       " 29: (array([23, 24, 28, 30, 33, 34]),),\n",
       " 30: (array([24, 25, 29, 31, 34, 35]),),\n",
       " 31: (array([25, 26, 30, 32, 35, 36]),),\n",
       " 32: (array([26, 27, 31, 36]),),\n",
       " 33: (array([28, 29, 34, 36]),),\n",
       " 34: (array([29, 30, 33, 35]),),\n",
       " 35: (array([30, 31, 34, 36]),),\n",
       " 36: (array([31, 32, 33, 35]),)}"
      ]
     },
     "execution_count": 15,
     "metadata": {},
     "output_type": "execute_result"
    }
   ],
   "source": [
    "board.neighbours"
   ]
  },
  {
   "cell_type": "markdown",
   "metadata": {},
   "source": [
    "```\n",
    "        00  01  02  03\n",
    "      04  05  06  07  08\n",
    "    09  10  11  12  13  14\n",
    "  15  16  17  18  19  20  21\n",
    "    22  23  24  25  26  27\n",
    "      28  29  30  31  32\n",
    "        33  34  35  36\n",
    "```\n",
    "```\n",
    "      00  01  02  \n",
    "    03  04  05  06  \n",
    "  07  08  09  10  11\n",
    "    12  13  14  15  \n",
    "      16  17  18  \n",
    "```\n"
   ]
  },
  {
   "cell_type": "code",
   "execution_count": null,
   "metadata": {},
   "outputs": [],
   "source": []
  }
 ],
 "metadata": {
  "kernelspec": {
   "display_name": "Python 3",
   "language": "python",
   "name": "python3"
  },
  "language_info": {
   "codemirror_mode": {
    "name": "ipython",
    "version": 3
   },
   "file_extension": ".py",
   "mimetype": "text/x-python",
   "name": "python",
   "nbconvert_exporter": "python",
   "pygments_lexer": "ipython3",
   "version": "3.8.10"
  }
 },
 "nbformat": 4,
 "nbformat_minor": 4
}
