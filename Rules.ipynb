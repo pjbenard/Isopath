{
 "cells": [
  {
   "cell_type": "markdown",
   "metadata": {},
   "source": [
    "Gameboard:\n",
    "- Un hexagone de taille 4 sur chaque coté\n",
    "- Nombre total de tiles : 1 + 6 + 12 + 18 = 37\n",
    "- 3 niveaux possibles : -1, 0, 1\n",
    "- Gameboard de base :\n",
    "```\n",
    "      1 1 1 1\n",
    "     0 0 0 0 0\n",
    "    0 0 0 0 0 0\n",
    "   0 0 0 0 0 0 0\n",
    "    0 0 0 0 0 0\n",
    "     0 0 0 0 0\n",
    "     -1-1-1-1\n",
    "```\n",
    "  \n",
    "- Numéro des cases (variable cachée):\n",
    "```\n",
    "        00  01  02  03\n",
    "      04  05  06  07  08\n",
    "    09  10  11  12  13  14\n",
    "  15  16  17  18  19  20  21\n",
    "    22  23  24  25  26  27\n",
    "      28  29  30  31  32\n",
    "        33  34  35  36\n",
    "```\n",
    "      \n",
    "- Possibilités de faire des déplacements sur :\n",
    "    - Les cases adjacentes\n",
    "        - Exemple : (12) -> (06, 07, 11, 13, 18, 19)\n",
    "    - Entre les coins sur la même ligne :\n",
    "        - Exemple 1 : (21) -> (14, 20, 27) + (15)\n",
    "        - Exemple 2 : (03) -> (02, 07, 08) + (00)\n",
    "\n",
    "Rules :\n",
    "- Chaque joueur débute avec 4 pions\n",
    "- La base de chaque joueur constitue les cases sur lesquelles ses pions démarrent la partie\n",
    "- Chacun son tour, un joueur doit effectuer deux actions dans cette ordre :\n",
    "    - Déplacer une tile d'une case de son choix ($C_d$) sur une autre case de son choix ($C_f$) avec les conditions :\n",
    "        - La case doit pouvoi être déplacée \n",
    "            - Il y a au moins une tile sur la case de départ ($C_d > -1$)\n",
    "            - La case d'arrivée doit pouvoir acceuillir la tile ($C_f < 1$)\n",
    "            - Les cases $C_d$ et $C_f$ sont inhabitées\n",
    "        - Les cases doivent satisfaire les conditions en fonction du joueur \n",
    "            - Si la case $C_f$ est dans sa base $1$, il ne peut déposer la tile dessus pour reconstruire sa base.\n",
    "            - Si la case $C_d$ est dans sa base $-1$, il ne peut enlever la tile dessus pour reconstruire sa base.\n",
    "    - Déplacer un de ses pions sur une des cases adjacentes avec les conditions :\n",
    "        - La case doit être inhabitée\n",
    "        - La case doit être de sa couleur ($-1$ ou $1$)"
   ]
  },
  {
   "cell_type": "markdown",
   "metadata": {},
   "source": [
    "See: \n",
    "![Img 1](https://i.postimg.cc/1R03L89N/new-rule-sheet-1.png)\n",
    "![Img 2](https://i.postimg.cc/h42Hzns5/new-rule-sheet-2.png)"
   ]
  },
  {
   "cell_type": "code",
   "execution_count": null,
   "metadata": {},
   "outputs": [],
   "source": []
  }
 ],
 "metadata": {
  "kernelspec": {
   "display_name": "Python 3",
   "language": "python",
   "name": "python3"
  },
  "language_info": {
   "codemirror_mode": {
    "name": "ipython",
    "version": 3
   },
   "file_extension": ".py",
   "mimetype": "text/x-python",
   "name": "python",
   "nbconvert_exporter": "python",
   "pygments_lexer": "ipython3",
   "version": "3.8.10"
  }
 },
 "nbformat": 4,
 "nbformat_minor": 4
}
